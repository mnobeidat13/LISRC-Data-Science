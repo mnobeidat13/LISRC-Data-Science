{
 "cells": [
  {
   "cell_type": "markdown",
   "id": "1fc62f40",
   "metadata": {
    "papermill": {
     "duration": 0.010677,
     "end_time": "2023-09-08T10:52:27.354575",
     "exception": false,
     "start_time": "2023-09-08T10:52:27.343898",
     "status": "completed"
    },
    "tags": []
   },
   "source": [
    "# Imports"
   ]
  },
  {
   "cell_type": "code",
   "execution_count": 1,
   "id": "ab039969",
   "metadata": {
    "execution": {
     "iopub.execute_input": "2023-09-08T10:52:27.376881Z",
     "iopub.status.busy": "2023-09-08T10:52:27.376345Z",
     "iopub.status.idle": "2023-09-08T10:52:37.814605Z",
     "shell.execute_reply": "2023-09-08T10:52:37.813382Z"
    },
    "id": "C7HxRQ6y2P-Z",
    "papermill": {
     "duration": 10.453077,
     "end_time": "2023-09-08T10:52:37.817629",
     "exception": false,
     "start_time": "2023-09-08T10:52:27.364552",
     "status": "completed"
    },
    "tags": []
   },
   "outputs": [],
   "source": [
    "from tensorflow import keras\n",
    "from tensorflow.keras.utils import plot_model\n",
    "import matplotlib.pyplot as plt\n",
    "import numpy as np"
   ]
  },
  {
   "cell_type": "markdown",
   "id": "d8d08e9b",
   "metadata": {
    "papermill": {
     "duration": 0.009781,
     "end_time": "2023-09-08T10:52:37.837657",
     "exception": false,
     "start_time": "2023-09-08T10:52:37.827876",
     "status": "completed"
    },
    "tags": []
   },
   "source": [
    "# Load the dataset"
   ]
  },
  {
   "cell_type": "code",
   "execution_count": 2,
   "id": "080c8a27",
   "metadata": {
    "execution": {
     "iopub.execute_input": "2023-09-08T10:52:37.859476Z",
     "iopub.status.busy": "2023-09-08T10:52:37.858766Z",
     "iopub.status.idle": "2023-09-08T10:52:38.337050Z",
     "shell.execute_reply": "2023-09-08T10:52:38.335733Z"
    },
    "papermill": {
     "duration": 0.492589,
     "end_time": "2023-09-08T10:52:38.340082",
     "exception": false,
     "start_time": "2023-09-08T10:52:37.847493",
     "status": "completed"
    },
    "tags": []
   },
   "outputs": [
    {
     "name": "stdout",
     "output_type": "stream",
     "text": [
      "Downloading data from https://storage.googleapis.com/tensorflow/tf-keras-datasets/mnist.npz\n",
      "11490434/11490434 [==============================] - 0s 0us/step\n"
     ]
    }
   ],
   "source": [
    "(x_train, y_train), (x_test, y_test) = keras.datasets.mnist.load_data()"
   ]
  },
  {
   "cell_type": "code",
   "execution_count": 3,
   "id": "20311c58",
   "metadata": {
    "execution": {
     "iopub.execute_input": "2023-09-08T10:52:38.363017Z",
     "iopub.status.busy": "2023-09-08T10:52:38.362561Z",
     "iopub.status.idle": "2023-09-08T10:52:38.369020Z",
     "shell.execute_reply": "2023-09-08T10:52:38.367653Z"
    },
    "papermill": {
     "duration": 0.020641,
     "end_time": "2023-09-08T10:52:38.371451",
     "exception": false,
     "start_time": "2023-09-08T10:52:38.350810",
     "status": "completed"
    },
    "tags": []
   },
   "outputs": [
    {
     "name": "stdout",
     "output_type": "stream",
     "text": [
      "(60000, 28, 28)\n",
      "(60000,)\n",
      "(10000, 28, 28)\n",
      "(10000,)\n"
     ]
    }
   ],
   "source": [
    "print(x_train.shape) \n",
    "print(y_train.shape)\n",
    "print(x_test.shape) \n",
    "print(y_test.shape)"
   ]
  },
  {
   "cell_type": "code",
   "execution_count": 4,
   "id": "96818c04",
   "metadata": {
    "execution": {
     "iopub.execute_input": "2023-09-08T10:52:38.395247Z",
     "iopub.status.busy": "2023-09-08T10:52:38.393821Z",
     "iopub.status.idle": "2023-09-08T10:52:38.402760Z",
     "shell.execute_reply": "2023-09-08T10:52:38.401606Z"
    },
    "papermill": {
     "duration": 0.022962,
     "end_time": "2023-09-08T10:52:38.404966",
     "exception": false,
     "start_time": "2023-09-08T10:52:38.382004",
     "status": "completed"
    },
    "tags": []
   },
   "outputs": [
    {
     "data": {
      "text/plain": [
       "(28, 28)"
      ]
     },
     "execution_count": 4,
     "metadata": {},
     "output_type": "execute_result"
    }
   ],
   "source": [
    "x_train[0].shape"
   ]
  },
  {
   "cell_type": "code",
   "execution_count": 5,
   "id": "c655a015",
   "metadata": {
    "execution": {
     "iopub.execute_input": "2023-09-08T10:52:38.428887Z",
     "iopub.status.busy": "2023-09-08T10:52:38.427744Z",
     "iopub.status.idle": "2023-09-08T10:52:38.916875Z",
     "shell.execute_reply": "2023-09-08T10:52:38.915817Z"
    },
    "id": "oPUpch_y3TYh",
    "outputId": "17483695-28c2-4e40-bf95-cefcead263bb",
    "papermill": {
     "duration": 0.504183,
     "end_time": "2023-09-08T10:52:38.919746",
     "exception": false,
     "start_time": "2023-09-08T10:52:38.415563",
     "status": "completed"
    },
    "tags": []
   },
   "outputs": [
    {
     "data": {
      "image/png": "[encoded data removed]",
      "text/plain": [
       "<Figure size 1200x1500 with 10 Axes>"
      ]
     },
     "metadata": {},
     "output_type": "display_data"
    }
   ],
   "source": [
    "for i in range(10):\n",
    "    num = np.random.randint(1,40000,1)[0]\n",
    "    plt.figure(10,figsize=(12,15))\n",
    "    plt.subplot(6,5,i+1)\n",
    "    plt.imshow(x_train[num,:,:],cmap='gray')\n",
    "    plt.axis('off')"
   ]
  },
  {
   "cell_type": "markdown",
   "id": "3737ec19",
   "metadata": {
    "papermill": {
     "duration": 0.011044,
     "end_time": "2023-09-08T10:52:38.942005",
     "exception": false,
     "start_time": "2023-09-08T10:52:38.930961",
     "status": "completed"
    },
    "tags": []
   },
   "source": [
    "# Scaling"
   ]
  },
  {
   "cell_type": "code",
   "execution_count": 6,
   "id": "d44a354e",
   "metadata": {
    "execution": {
     "iopub.execute_input": "2023-09-08T10:52:38.966035Z",
     "iopub.status.busy": "2023-09-08T10:52:38.965547Z",
     "iopub.status.idle": "2023-09-08T10:52:39.251152Z",
     "shell.execute_reply": "2023-09-08T10:52:39.249737Z"
    },
    "id": "ZViLyQdO24_H",
    "outputId": "2824c20b-f6be-44b4-f824-e19fbbdf0255",
    "papermill": {
     "duration": 0.300738,
     "end_time": "2023-09-08T10:52:39.253731",
     "exception": false,
     "start_time": "2023-09-08T10:52:38.952993",
     "status": "completed"
    },
    "tags": []
   },
   "outputs": [
    {
     "name": "stdout",
     "output_type": "stream",
     "text": [
      "0.0 1.0\n"
     ]
    }
   ],
   "source": [
    "x_train = x_train/255\n",
    "x_test = x_test/255\n",
    "\n",
    "print(x_train.min(),x_train.max())"
   ]
  },
  {
   "cell_type": "markdown",
   "id": "ff99eea8",
   "metadata": {
    "papermill": {
     "duration": 0.010729,
     "end_time": "2023-09-08T10:52:39.275718",
     "exception": false,
     "start_time": "2023-09-08T10:52:39.264989",
     "status": "completed"
    },
    "tags": []
   },
   "source": [
    "# Model Creation"
   ]
  },
  {
   "cell_type": "code",
   "execution_count": 7,
   "id": "e27a6e6d",
   "metadata": {
    "execution": {
     "iopub.execute_input": "2023-09-08T10:52:39.299863Z",
     "iopub.status.busy": "2023-09-08T10:52:39.299177Z",
     "iopub.status.idle": "2023-09-08T10:52:39.481722Z",
     "shell.execute_reply": "2023-09-08T10:52:39.480554Z"
    },
    "id": "zQ5sd-HD5E2c",
    "papermill": {
     "duration": 0.19793,
     "end_time": "2023-09-08T10:52:39.484556",
     "exception": false,
     "start_time": "2023-09-08T10:52:39.286626",
     "status": "completed"
    },
    "tags": []
   },
   "outputs": [],
   "source": [
    "model  = keras.models.Sequential([keras.layers.Flatten(input_shape=(28,28,1)), # input layer\n",
    "#                                   keras.layers.Dense(128,activation='relu'), # hidden layer\n",
    "                                  keras.layers.Dense(4,activation='relu'), # hidden layer\n",
    "                                  keras.layers.Dense(10)]) # output layer"
   ]
  },
  {
   "cell_type": "code",
   "execution_count": 8,
   "id": "e8e03a7a",
   "metadata": {
    "execution": {
     "iopub.execute_input": "2023-09-08T10:52:39.509410Z",
     "iopub.status.busy": "2023-09-08T10:52:39.508734Z",
     "iopub.status.idle": "2023-09-08T10:52:39.531169Z",
     "shell.execute_reply": "2023-09-08T10:52:39.529960Z"
    },
    "id": "x86uSnOh9gCz",
    "outputId": "28b02f27-8125-4826-8799-7d650807c6fd",
    "papermill": {
     "duration": 0.037916,
     "end_time": "2023-09-08T10:52:39.533949",
     "exception": false,
     "start_time": "2023-09-08T10:52:39.496033",
     "status": "completed"
    },
    "tags": []
   },
   "outputs": [
    {
     "name": "stdout",
     "output_type": "stream",
     "text": [
      "Model: \"sequential\"\n",
      "_________________________________________________________________\n",
      " Layer (type)                Output Shape              Param #   \n",
      "=================================================================\n",
      " flatten (Flatten)           (None, 784)               0         \n",
      "                                                                 \n",
      " dense (Dense)               (None, 4)                 3140      \n",
      "                                                                 \n",
      " dense_1 (Dense)             (None, 10)                50        \n",
      "                                                                 \n",
      "=================================================================\n",
      "Total params: 3,190\n",
      "Trainable params: 3,190\n",
      "Non-trainable params: 0\n",
      "_________________________________________________________________\n"
     ]
    }
   ],
   "source": [
    "model.summary()"
   ]
  },
  {
   "cell_type": "code",
   "execution_count": 9,
   "id": "6d5e03ac",
   "metadata": {
    "execution": {
     "iopub.execute_input": "2023-09-08T10:52:39.560421Z",
     "iopub.status.busy": "2023-09-08T10:52:39.560026Z",
     "iopub.status.idle": "2023-09-08T10:52:39.820290Z",
     "shell.execute_reply": "2023-09-08T10:52:39.819092Z"
    },
    "papermill": {
     "duration": 0.276648,
     "end_time": "2023-09-08T10:52:39.822875",
     "exception": false,
     "start_time": "2023-09-08T10:52:39.546227",
     "status": "completed"
    },
    "tags": []
   },
   "outputs": [
    {
     "data": {
      "image/png": "[encoded data removed]",
      "text/plain": [
       "<IPython.core.display.Image object>"
      ]
     },
     "execution_count": 9,
     "metadata": {},
     "output_type": "execute_result"
    }
   ],
   "source": [
    "plot_model(model, show_shapes=True, show_layer_names=True)"
   ]
  },
  {
   "cell_type": "code",
   "execution_count": 10,
   "id": "3491b1b5",
   "metadata": {
    "execution": {
     "iopub.execute_input": "2023-09-08T10:52:39.851357Z",
     "iopub.status.busy": "2023-09-08T10:52:39.850943Z",
     "iopub.status.idle": "2023-09-08T10:52:39.855903Z",
     "shell.execute_reply": "2023-09-08T10:52:39.854753Z"
    },
    "papermill": {
     "duration": 0.021723,
     "end_time": "2023-09-08T10:52:39.858119",
     "exception": false,
     "start_time": "2023-09-08T10:52:39.836396",
     "status": "completed"
    },
    "tags": []
   },
   "outputs": [],
   "source": [
    "hyper_parameters = []"
   ]
  },
  {
   "cell_type": "code",
   "execution_count": 11,
   "id": "e638dbf7",
   "metadata": {
    "execution": {
     "iopub.execute_input": "2023-09-08T10:52:39.886674Z",
     "iopub.status.busy": "2023-09-08T10:52:39.886252Z",
     "iopub.status.idle": "2023-09-08T10:52:39.891311Z",
     "shell.execute_reply": "2023-09-08T10:52:39.890175Z"
    },
    "papermill": {
     "duration": 0.022049,
     "end_time": "2023-09-08T10:52:39.893480",
     "exception": false,
     "start_time": "2023-09-08T10:52:39.871431",
     "status": "completed"
    },
    "tags": []
   },
   "outputs": [],
   "source": [
    "batch_size = 32\n",
    "epochs = 5\n",
    "learning_rate = 0.001"
   ]
  },
  {
   "cell_type": "code",
   "execution_count": 12,
   "id": "697607de",
   "metadata": {
    "execution": {
     "iopub.execute_input": "2023-09-08T10:52:39.921747Z",
     "iopub.status.busy": "2023-09-08T10:52:39.921329Z",
     "iopub.status.idle": "2023-09-08T10:52:39.941758Z",
     "shell.execute_reply": "2023-09-08T10:52:39.940570Z"
    },
    "id": "vYC9PWBB7XZ7",
    "papermill": {
     "duration": 0.038001,
     "end_time": "2023-09-08T10:52:39.944656",
     "exception": false,
     "start_time": "2023-09-08T10:52:39.906655",
     "status": "completed"
    },
    "tags": []
   },
   "outputs": [],
   "source": [
    "loss_func = keras.losses.SparseCategoricalCrossentropy(from_logits=True) # produces a aprobabilty between 0 and 1\n",
    "\n",
    "optimizer = keras.optimizers.SGD(learning_rate = learning_rate)\n",
    "\n",
    "model.compile(optimizer = optimizer, loss = loss_func, metrics=['accuracy'])"
   ]
  },
  {
   "cell_type": "markdown",
   "id": "c6fdaa51",
   "metadata": {
    "papermill": {
     "duration": 0.012936,
     "end_time": "2023-09-08T10:52:39.971310",
     "exception": false,
     "start_time": "2023-09-08T10:52:39.958374",
     "status": "completed"
    },
    "tags": []
   },
   "source": [
    "# Model Training and Testing"
   ]
  },
  {
   "cell_type": "code",
   "execution_count": 13,
   "id": "b30de8a0",
   "metadata": {
    "execution": {
     "iopub.execute_input": "2023-09-08T10:52:39.999618Z",
     "iopub.status.busy": "2023-09-08T10:52:39.999173Z",
     "iopub.status.idle": "2023-09-08T10:52:55.415932Z",
     "shell.execute_reply": "2023-09-08T10:52:55.414892Z"
    },
    "id": "XtkzlQ_X76kb",
    "outputId": "34651c4e-60fc-426d-8ac7-2fbad71e0d73",
    "papermill": {
     "duration": 15.434052,
     "end_time": "2023-09-08T10:52:55.418541",
     "exception": false,
     "start_time": "2023-09-08T10:52:39.984489",
     "status": "completed"
    },
    "tags": []
   },
   "outputs": [
    {
     "name": "stdout",
     "output_type": "stream",
     "text": [
      "Epoch 1/5\n",
      "1500/1500 [==============================] - 4s 2ms/step - loss: 2.1782 - accuracy: 0.1822 - val_loss: 2.0826 - val_accuracy: 0.2512\n",
      "Epoch 2/5\n",
      "1500/1500 [==============================] - 3s 2ms/step - loss: 2.0427 - accuracy: 0.2754 - val_loss: 1.9866 - val_accuracy: 0.3141\n",
      "Epoch 3/5\n",
      "1500/1500 [==============================] - 3s 2ms/step - loss: 1.9580 - accuracy: 0.3234 - val_loss: 1.9028 - val_accuracy: 0.3548\n",
      "Epoch 4/5\n",
      "1500/1500 [==============================] - 3s 2ms/step - loss: 1.8789 - accuracy: 0.3541 - val_loss: 1.8207 - val_accuracy: 0.3800\n",
      "Epoch 5/5\n",
      "1500/1500 [==============================] - 3s 2ms/step - loss: 1.8005 - accuracy: 0.3723 - val_loss: 1.7398 - val_accuracy: 0.3950\n"
     ]
    }
   ],
   "source": [
    "history = model.fit(x_train,y_train, validation_split=0.2,epochs = epochs, batch_size=batch_size)"
   ]
  },
  {
   "cell_type": "code",
   "execution_count": 14,
   "id": "c2b84c03",
   "metadata": {
    "execution": {
     "iopub.execute_input": "2023-09-08T10:52:55.490657Z",
     "iopub.status.busy": "2023-09-08T10:52:55.489792Z",
     "iopub.status.idle": "2023-09-08T10:52:55.828991Z",
     "shell.execute_reply": "2023-09-08T10:52:55.828055Z"
    },
    "papermill": {
     "duration": 0.378056,
     "end_time": "2023-09-08T10:52:55.831626",
     "exception": false,
     "start_time": "2023-09-08T10:52:55.453570",
     "status": "completed"
    },
    "tags": []
   },
   "outputs": [
    {
     "data": {
      "image/png": "[encoded data removed]",
      "text/plain": [
       "<Figure size 500x300 with 1 Axes>"
      ]
     },
     "metadata": {},
     "output_type": "display_data"
    }
   ],
   "source": [
    "# Plot training & validation accuracy values\n",
    "plt.figure(figsize=(5, 3))\n",
    "plt.plot(history.history['accuracy'], label='Training Accuracy')\n",
    "plt.plot(history.history['val_accuracy'], label='Validation Accuracy')\n",
    "plt.title('Model Accuracy')\n",
    "plt.xlabel('Epoch')\n",
    "plt.ylabel('Accuracy')\n",
    "plt.legend()\n",
    "# plt.ylim(0, 1)\n",
    "plt.grid(True)\n",
    "plt.show()"
   ]
  },
  {
   "cell_type": "code",
   "execution_count": 15,
   "id": "4a08f285",
   "metadata": {
    "execution": {
     "iopub.execute_input": "2023-09-08T10:52:55.905794Z",
     "iopub.status.busy": "2023-09-08T10:52:55.905329Z",
     "iopub.status.idle": "2023-09-08T10:52:56.590414Z",
     "shell.execute_reply": "2023-09-08T10:52:56.589268Z"
    },
    "id": "6EoZE3_z8Dbb",
    "outputId": "3e9a91ca-c497-49b7-e4d6-9b09da801361",
    "papermill": {
     "duration": 0.724866,
     "end_time": "2023-09-08T10:52:56.593145",
     "exception": false,
     "start_time": "2023-09-08T10:52:55.868279",
     "status": "completed"
    },
    "tags": []
   },
   "outputs": [
    {
     "name": "stdout",
     "output_type": "stream",
     "text": [
      "313/313 [==============================] - 1s 1ms/step - loss: 1.7556 - accuracy: 0.3793\n",
      "Test Accuracy:  0.37929999828338623\n",
      "Test loss: 1.7555779218673706\n"
     ]
    }
   ],
   "source": [
    "[test_loss , test_accuracy] = model.evaluate(x_test,y_test)\n",
    "print('Test Accuracy: ',test_accuracy)\n",
    "print(\"Test loss:\",test_loss)"
   ]
  },
  {
   "cell_type": "markdown",
   "id": "8b1168f8",
   "metadata": {
    "papermill": {
     "duration": 0.036257,
     "end_time": "2023-09-08T10:52:56.665871",
     "exception": false,
     "start_time": "2023-09-08T10:52:56.629614",
     "status": "completed"
    },
    "tags": []
   },
   "source": [
    "# Make predictions on a sample of the test set\n"
   ]
  },
  {
   "cell_type": "code",
   "execution_count": 16,
   "id": "849dff2b",
   "metadata": {
    "execution": {
     "iopub.execute_input": "2023-09-08T10:52:56.741397Z",
     "iopub.status.busy": "2023-09-08T10:52:56.740976Z",
     "iopub.status.idle": "2023-09-08T10:52:58.160717Z",
     "shell.execute_reply": "2023-09-08T10:52:58.159490Z"
    },
    "id": "V6U99LuS_sVD",
    "papermill": {
     "duration": 1.461433,
     "end_time": "2023-09-08T10:52:58.163454",
     "exception": false,
     "start_time": "2023-09-08T10:52:56.702021",
     "status": "completed"
    },
    "tags": []
   },
   "outputs": [
    {
     "name": "stdout",
     "output_type": "stream",
     "text": [
      "1/1 [==============================] - 0s 107ms/step\n"
     ]
    },
    {
     "data": {
      "image/png": "[encoded data removed]",
      "text/plain": [
       "<Figure size 1200x600 with 10 Axes>"
      ]
     },
     "metadata": {},
     "output_type": "display_data"
    }
   ],
   "source": [
    "sample_size = 10  # Number of samples to plot\n",
    "sample_indices = np.random.choice(len(x_test), size=sample_size, replace=False)\n",
    "sample_images = x_test[sample_indices]\n",
    "sample_labels = y_test[sample_indices]\n",
    "predictions = model.predict(sample_images)\n",
    "predicted_labels = np.argmax(predictions, axis=1)\n",
    "\n",
    "# Plot the sample images with their predicted labels\n",
    "plt.figure(figsize=(12, 6))\n",
    "for i in range(sample_size):\n",
    "    plt.subplot(2, 5, i + 1)\n",
    "    plt.imshow(sample_images[i], cmap='gray')\n",
    "    plt.title(f'Predicted: {predicted_labels[i]}\\nActual: {sample_labels[i]}')\n",
    "    plt.axis('off')\n",
    "\n",
    "plt.tight_layout()\n",
    "plt.show()\n"
   ]
  },
  {
   "cell_type": "markdown",
   "id": "f78abd9d",
   "metadata": {
    "papermill": {
     "duration": 0.037226,
     "end_time": "2023-09-08T10:52:58.238381",
     "exception": false,
     "start_time": "2023-09-08T10:52:58.201155",
     "status": "completed"
    },
    "tags": []
   },
   "source": [
    "# Hyper-Parameters Tuning"
   ]
  },
  {
   "cell_type": "code",
   "execution_count": 17,
   "id": "efb3b888",
   "metadata": {
    "execution": {
     "iopub.execute_input": "2023-09-08T10:52:58.382571Z",
     "iopub.status.busy": "2023-09-08T10:52:58.382143Z",
     "iopub.status.idle": "2023-09-08T10:52:58.391630Z",
     "shell.execute_reply": "2023-09-08T10:52:58.390511Z"
    },
    "jupyter": {
     "source_hidden": true
    },
    "papermill": {
     "duration": 0.051496,
     "end_time": "2023-09-08T10:52:58.394078",
     "exception": false,
     "start_time": "2023-09-08T10:52:58.342582",
     "status": "completed"
    },
    "tags": []
   },
   "outputs": [],
   "source": [
    "def train_model(batch_size, optimizer, num_epochs, learning_rate):\n",
    "    # Create a neural network model\n",
    "    model = keras.Sequential([\n",
    "        keras.layers.Flatten(input_shape=(28, 28)),\n",
    "        keras.layers.Dense(128, activation='relu'),\n",
    "        keras.layers.Dropout(0.2),\n",
    "        keras.layers.Dense(10)\n",
    "    ])\n",
    "\n",
    "    # Compile the model with specified optimizer and learning rate\n",
    "    model.compile(optimizer=optimizer(learning_rate=learning_rate),\n",
    "                  loss=tf.keras.losses.SparseCategoricalCrossentropy(from_logits=True),\n",
    "                  metrics=['accuracy'])\n",
    "\n",
    "    # Train the model\n",
    "    history = model.fit(x_train, y_train,\n",
    "                        batch_size=batch_size,\n",
    "                        epochs=num_epochs,\n",
    "                        validation_data=(x_test, y_test),\n",
    "                        verbose=0)\n",
    "\n",
    "    # Evaluate the model on test data\n",
    "    test_loss, test_accuracy = model.evaluate(x_test, y_test, verbose=0)\n",
    "\n",
    "    return history, test_loss, test_accuracy\n",
    "\n"
   ]
  },
  {
   "cell_type": "code",
   "execution_count": 18,
   "id": "2bc91deb",
   "metadata": {
    "execution": {
     "iopub.execute_input": "2023-09-08T10:52:58.471498Z",
     "iopub.status.busy": "2023-09-08T10:52:58.471073Z",
     "iopub.status.idle": "2023-09-08T10:52:58.477174Z",
     "shell.execute_reply": "2023-09-08T10:52:58.475937Z"
    },
    "jupyter": {
     "source_hidden": true
    },
    "papermill": {
     "duration": 0.047789,
     "end_time": "2023-09-08T10:52:58.479585",
     "exception": false,
     "start_time": "2023-09-08T10:52:58.431796",
     "status": "completed"
    },
    "tags": []
   },
   "outputs": [],
   "source": [
    "# # Define hyperparameters to experiment with\n",
    "# batch_sizes = [16, 32, 64]\n",
    "# optimizers = [tf.keras.optimizers.Adam, tf.keras.optimizers.SGD]\n",
    "# num_epochs = [5]\n",
    "# learning_rates = [0.001, 0.01, 0.1]\n",
    "\n",
    "# # Perform experiments\n",
    "# results = []\n",
    "\n",
    "# for batch_size in batch_sizes:\n",
    "#     for optimizer in optimizers:\n",
    "#         for epochs in num_epochs:\n",
    "#             for learning_rate in learning_rates:\n",
    "#                 history, test_loss, test_accuracy = train_model(batch_size, optimizer, epochs, learning_rate)\n",
    "#                 result = {\n",
    "#                     'batch_size': batch_size,\n",
    "#                     'optimizer': optimizer.__name__,\n",
    "#                     'num_epochs': epochs,\n",
    "#                     'learning_rate': learning_rate,\n",
    "#                     'test_loss': test_loss,\n",
    "#                     'test_accuracy': test_accuracy\n",
    "#                 }\n",
    "#                 print(result)\n",
    "#                 results.append(result)\n",
    "\n",
    "# # Display or save results as needed\n",
    "# for result in results:\n",
    "#     print(result)"
   ]
  }
 ],
 "kernelspec": {
  "display_name": "Python 3",
  "language": "python",
  "name": "python3"
 },
 "language_info": {
  "codemirror_mode": {
   "name": "ipython",
   "version": 3
  },
  "file_extension": ".py",
  "mimetype": "text/x-python",
  "name": "python",
  "nbconvert_exporter": "python",
  "pygments_lexer": "ipython3",
  "version": "3.6.4"
 },
 "metadata": {
  "accelerator": "GPU",
  "colab": {
   "provenance": []
  },
  "gpuClass": "standard",
  "kernelspec": {
   "display_name": "Python 3",
   "language": "python",
   "name": "python3"
  },
  "language_info": {
   "codemirror_mode": {
    "name": "ipython",
    "version": 3
   },
   "file_extension": ".py",
   "mimetype": "text/x-python",
   "name": "python",
   "nbconvert_exporter": "python",
   "pygments_lexer": "ipython3",
   "version": "3.10.12"
  },
  "papermill": {
   "default_parameters": {},
   "duration": 37.524473,
   "end_time": "2023-09-08T10:53:01.135859",
   "environment_variables": {},
   "exception": null,
   "input_path": "__notebook__.ipynb",
   "output_path": "__notebook__.ipynb",
   "parameters": {},
   "start_time": "2023-09-08T10:52:23.611386",
   "version": "2.4.0"
  }
 },
 "nbformat": 4,
 "nbformat_minor": 5
}
